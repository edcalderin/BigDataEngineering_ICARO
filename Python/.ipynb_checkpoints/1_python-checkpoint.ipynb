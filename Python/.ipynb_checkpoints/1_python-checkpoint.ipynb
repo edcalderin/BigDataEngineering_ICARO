{
 "cells": [
  {
   "cell_type": "markdown",
   "metadata": {},
   "source": [
    "# Practica Python"
   ]
  },
  {
   "cell_type": "markdown",
   "metadata": {},
   "source": [
    "## Operaciones basicas"
   ]
  },
  {
   "cell_type": "code",
   "execution_count": 1,
   "metadata": {
    "ExecuteTime": {
     "end_time": "2021-02-22T23:46:42.600512Z",
     "start_time": "2021-02-22T23:46:42.591544Z"
    }
   },
   "outputs": [
    {
     "name": "stdout",
     "output_type": "stream",
     "text": [
      "Suma 2\n",
      "Resta 0\n",
      "Multiplicacion 4\n",
      "Division con coma flotante 2.0\n",
      "Division con coma flotante 10.0\n",
      "Divison sin coma flotante 3\n"
     ]
    }
   ],
   "source": [
    "print('Suma', 1+1)\n",
    "print('Resta', 1-1)\n",
    "print('Multiplicacion', 2*2)\n",
    "print('Division con coma flotante', 4/2)\n",
    "print('Division con coma flotante', 20/2)\n",
    "print('Divison sin coma flotante', 15%4)"
   ]
  },
  {
   "cell_type": "markdown",
   "metadata": {},
   "source": [
    "## Listas"
   ]
  },
  {
   "cell_type": "code",
   "execution_count": 2,
   "metadata": {
    "ExecuteTime": {
     "end_time": "2021-02-22T23:46:42.617516Z",
     "start_time": "2021-02-22T23:46:42.604513Z"
    }
   },
   "outputs": [
    {
     "name": "stdout",
     "output_type": "stream",
     "text": [
      "<class 'list'>\n",
      "1\n",
      "2\n",
      "3\n"
     ]
    }
   ],
   "source": [
    "lista = [1, 2, 3]\n",
    "print(type(lista))\n",
    "for n in lista:\n",
    "    print(n)"
   ]
  },
  {
   "cell_type": "code",
   "execution_count": 3,
   "metadata": {
    "ExecuteTime": {
     "end_time": "2021-02-22T23:46:42.635531Z",
     "start_time": "2021-02-22T23:46:42.620511Z"
    }
   },
   "outputs": [
    {
     "name": "stdout",
     "output_type": "stream",
     "text": [
      "1\n",
      "2\n",
      "3\n",
      "4\n",
      "5\n",
      "6\n",
      "7\n",
      "8\n",
      "9\n",
      "10\n"
     ]
    }
   ],
   "source": [
    "a=0\n",
    "while a < 10:\n",
    "    a+=1\n",
    "    print(a)"
   ]
  },
  {
   "cell_type": "code",
   "execution_count": 4,
   "metadata": {
    "ExecuteTime": {
     "end_time": "2021-02-22T23:46:44.843635Z",
     "start_time": "2021-02-22T23:46:42.639516Z"
    }
   },
   "outputs": [
    {
     "name": "stdout",
     "output_type": "stream",
     "text": [
      "Introduzca el dato 1: 1\n"
     ]
    }
   ],
   "source": [
    "data=input('Introduzca el dato 1: ')"
   ]
  },
  {
   "cell_type": "code",
   "execution_count": 5,
   "metadata": {
    "ExecuteTime": {
     "end_time": "2021-02-22T23:46:44.860638Z",
     "start_time": "2021-02-22T23:46:44.845641Z"
    }
   },
   "outputs": [
    {
     "data": {
      "text/plain": [
       "'1'"
      ]
     },
     "execution_count": 5,
     "metadata": {},
     "output_type": "execute_result"
    }
   ],
   "source": [
    "data"
   ]
  },
  {
   "cell_type": "markdown",
   "metadata": {},
   "source": [
    "## Funciones"
   ]
  },
  {
   "cell_type": "code",
   "execution_count": 6,
   "metadata": {
    "ExecuteTime": {
     "end_time": "2021-02-22T23:46:44.875647Z",
     "start_time": "2021-02-22T23:46:44.864641Z"
    }
   },
   "outputs": [],
   "source": [
    "def calcular_suma():\n",
    "    a=input('Dato 1: ')\n",
    "    b=input('Dato 2: ')\n",
    "    return int(a)+int(b)"
   ]
  },
  {
   "cell_type": "code",
   "execution_count": 7,
   "metadata": {
    "ExecuteTime": {
     "end_time": "2021-02-22T23:46:47.847653Z",
     "start_time": "2021-02-22T23:46:44.880639Z"
    }
   },
   "outputs": [
    {
     "name": "stdout",
     "output_type": "stream",
     "text": [
      "Dato 1: 2\n",
      "Dato 2: 3\n",
      "El resultado es 5\n"
     ]
    }
   ],
   "source": [
    "suma = calcular_suma()\n",
    "print('El resultado es', suma)"
   ]
  },
  {
   "cell_type": "code",
   "execution_count": 8,
   "metadata": {
    "ExecuteTime": {
     "end_time": "2021-02-22T23:46:47.857704Z",
     "start_time": "2021-02-22T23:46:47.851658Z"
    }
   },
   "outputs": [
    {
     "name": "stdout",
     "output_type": "stream",
     "text": [
      "El resultado es impar\n"
     ]
    }
   ],
   "source": [
    "if suma % 2 == 0:\n",
    "    print('El resultado es par')\n",
    "else:\n",
    "    print('El resultado es impar')"
   ]
  },
  {
   "cell_type": "markdown",
   "metadata": {},
   "source": [
    "### Invocando funciones"
   ]
  },
  {
   "cell_type": "code",
   "execution_count": 17,
   "metadata": {
    "ExecuteTime": {
     "end_time": "2021-02-22T23:53:06.502014Z",
     "start_time": "2021-02-22T23:53:06.495013Z"
    }
   },
   "outputs": [],
   "source": [
    "import src.llamado_de_funciones as Functions"
   ]
  },
  {
   "cell_type": "code",
   "execution_count": 18,
   "metadata": {
    "ExecuteTime": {
     "end_time": "2021-02-22T23:53:07.032225Z",
     "start_time": "2021-02-22T23:53:07.027225Z"
    }
   },
   "outputs": [
    {
     "name": "stdout",
     "output_type": "stream",
     "text": [
      "Llamaste la funcion 1\n"
     ]
    }
   ],
   "source": [
    "Functions.funcion1()"
   ]
  },
  {
   "cell_type": "code",
   "execution_count": 19,
   "metadata": {
    "ExecuteTime": {
     "end_time": "2021-02-22T23:53:11.319739Z",
     "start_time": "2021-02-22T23:53:08.170260Z"
    }
   },
   "outputs": [
    {
     "name": "stdout",
     "output_type": "stream",
     "text": [
      "Ingrese dato 1: 2\n",
      "Ingrese dato 2: 4\n",
      "La suma es: 6\n"
     ]
    }
   ],
   "source": [
    "data1 = input('Ingrese dato 1: ')\n",
    "data2 = input('Ingrese dato 2: ')\n",
    "suma = Functions.funcion2(data1, data2)\n",
    "print(f'La suma es:', suma)"
   ]
  },
  {
   "cell_type": "markdown",
   "metadata": {},
   "source": [
    "## Archivos"
   ]
  },
  {
   "cell_type": "code",
   "execution_count": 21,
   "metadata": {
    "ExecuteTime": {
     "end_time": "2021-02-22T23:53:19.377886Z",
     "start_time": "2021-02-22T23:53:19.371854Z"
    }
   },
   "outputs": [
    {
     "data": {
      "text/plain": [
       "'Archivo de texto, lectura desde Python!'"
      ]
     },
     "execution_count": 21,
     "metadata": {},
     "output_type": "execute_result"
    }
   ],
   "source": [
    "file = open('src/Archivo.txt', 'rt')\n",
    "texto = file.read()\n",
    "texto"
   ]
  },
  {
   "cell_type": "code",
   "execution_count": 23,
   "metadata": {
    "ExecuteTime": {
     "end_time": "2021-02-22T23:53:34.214538Z",
     "start_time": "2021-02-22T23:53:34.185535Z"
    }
   },
   "outputs": [],
   "source": [
    "#Created with UNIX command\n",
    "!echo 'Hola mundo' > src/hello_world.txt"
   ]
  },
  {
   "cell_type": "code",
   "execution_count": 25,
   "metadata": {
    "ExecuteTime": {
     "end_time": "2021-02-22T23:53:42.143182Z",
     "start_time": "2021-02-22T23:53:42.137177Z"
    }
   },
   "outputs": [
    {
     "data": {
      "text/plain": [
       "\"'Hola mundo' \\n\""
      ]
     },
     "execution_count": 25,
     "metadata": {},
     "output_type": "execute_result"
    }
   ],
   "source": [
    "file = open('src/hello_world.txt')\n",
    "file.read()"
   ]
  },
  {
   "cell_type": "markdown",
   "metadata": {},
   "source": [
    "## Request"
   ]
  },
  {
   "cell_type": "code",
   "execution_count": 15,
   "metadata": {
    "ExecuteTime": {
     "end_time": "2021-02-22T23:39:04.409802Z",
     "start_time": "2021-02-22T23:39:02.565749Z"
    }
   },
   "outputs": [
    {
     "name": "stdout",
     "output_type": "stream",
     "text": [
      "Requirement already satisfied: requests in c:\\users\\erick\\anaconda3\\lib\\site-packages (2.24.0)\n",
      "Requirement already satisfied: certifi>=2017.4.17 in c:\\users\\erick\\anaconda3\\lib\\site-packages (from requests) (2020.12.5)\n",
      "Requirement already satisfied: chardet<4,>=3.0.2 in c:\\users\\erick\\anaconda3\\lib\\site-packages (from requests) (3.0.4)\n",
      "Requirement already satisfied: urllib3!=1.25.0,!=1.25.1,<1.26,>=1.21.1 in c:\\users\\erick\\anaconda3\\lib\\site-packages (from requests) (1.25.11)\n",
      "Requirement already satisfied: idna<3,>=2.5 in c:\\users\\erick\\anaconda3\\lib\\site-packages (from requests) (2.10)\n"
     ]
    }
   ],
   "source": [
    "#Install\n",
    "!pip install requests"
   ]
  },
  {
   "cell_type": "code",
   "execution_count": 26,
   "metadata": {
    "ExecuteTime": {
     "end_time": "2021-02-22T23:53:47.525159Z",
     "start_time": "2021-02-22T23:53:47.438057Z"
    }
   },
   "outputs": [],
   "source": [
    "import requests"
   ]
  },
  {
   "cell_type": "code",
   "execution_count": 32,
   "metadata": {
    "ExecuteTime": {
     "end_time": "2021-02-22T23:56:52.676185Z",
     "start_time": "2021-02-22T23:56:52.037761Z"
    }
   },
   "outputs": [
    {
     "name": "stdout",
     "output_type": "stream",
     "text": [
      "<Response [200]>\n"
     ]
    }
   ],
   "source": [
    "URL = 'https://api.github.com'\n",
    "data = requests.get(URL)\n",
    "print(data)"
   ]
  },
  {
   "cell_type": "code",
   "execution_count": 33,
   "metadata": {
    "ExecuteTime": {
     "end_time": "2021-02-22T23:56:55.990400Z",
     "start_time": "2021-02-22T23:56:55.984400Z"
    }
   },
   "outputs": [
    {
     "data": {
      "text/plain": [
       "200"
      ]
     },
     "execution_count": 33,
     "metadata": {},
     "output_type": "execute_result"
    }
   ],
   "source": [
    "data.status_code"
   ]
  },
  {
   "cell_type": "markdown",
   "metadata": {},
   "source": [
    "## Json Lectura"
   ]
  },
  {
   "cell_type": "code",
   "execution_count": 48,
   "metadata": {
    "ExecuteTime": {
     "end_time": "2021-02-23T00:19:34.032291Z",
     "start_time": "2021-02-23T00:19:34.028265Z"
    }
   },
   "outputs": [],
   "source": [
    "import json"
   ]
  },
  {
   "cell_type": "code",
   "execution_count": 132,
   "metadata": {
    "ExecuteTime": {
     "end_time": "2021-02-23T00:44:51.051029Z",
     "start_time": "2021-02-23T00:44:51.048057Z"
    }
   },
   "outputs": [],
   "source": [
    "frutas = \"\"\"{\"Verduleria\":\n",
    " [\n",
    "  {\"Fruta\":\n",
    "   [\n",
    "    {\"Nombre\":\"Manzana\",\"Cantidad\":10},\n",
    "    {\"Nombre\":\"Pera\",\"Cantidad\":20},\n",
    "    {\"Nombre\":\"Naranja\",\"Cantidad\":30}\n",
    "   ]\n",
    "  },\n",
    "  {\"Verdura\":\n",
    "   [\n",
    "    {\"Nombre\":\"Lechuga\",\"Cantidad\":80},\n",
    "    {\"Nombre\":\"Tomate\",\"Cantidad\":15},\n",
    "    {\"Nombre\":\"Pepino\",\"Cantidad\":50}\n",
    "   ]\n",
    "  }\n",
    " ]\n",
    "}\n",
    "\"\"\""
   ]
  },
  {
   "cell_type": "code",
   "execution_count": null,
   "metadata": {},
   "outputs": [],
   "source": []
  },
  {
   "cell_type": "code",
   "execution_count": 133,
   "metadata": {
    "ExecuteTime": {
     "end_time": "2021-02-23T00:44:51.212058Z",
     "start_time": "2021-02-23T00:44:51.207025Z"
    }
   },
   "outputs": [
    {
     "data": {
      "text/plain": [
       "str"
      ]
     },
     "execution_count": 133,
     "metadata": {},
     "output_type": "execute_result"
    }
   ],
   "source": [
    "type(frutas)"
   ]
  },
  {
   "cell_type": "code",
   "execution_count": 55,
   "metadata": {
    "ExecuteTime": {
     "end_time": "2021-02-23T00:21:24.034366Z",
     "start_time": "2021-02-23T00:21:24.029363Z"
    }
   },
   "outputs": [
    {
     "data": {
      "text/plain": [
       "'\\'{\"Verduleria\":\\n [\\n  {\"Fruta\":\\n   [\\n    {\"Nombre\":\"Manzana\",\"Cantidad\":10},\\n    {\"Nombre\":\"Pera\",\"Cantidad\":20},\\n    {\"Nombre\":\"Naranja\",\"Cantidad\":30}\\n   ]\\n  },\\n  {\"Verdura\":\\n   [\\n    {\"Nombre\":\"Lechuga\",\"Cantidad\":80},\\n    {\"Nombre\":\"Tomate\",\"Cantidad\":15},\\n    {\"Nombre\":\"Pepino\",\"Cantidad\":50}\\n   ]\\n  }\\n ]\\n}\\n\\''"
      ]
     },
     "execution_count": 55,
     "metadata": {},
     "output_type": "execute_result"
    }
   ],
   "source": []
  },
  {
   "cell_type": "code",
   "execution_count": 134,
   "metadata": {
    "ExecuteTime": {
     "end_time": "2021-02-23T00:44:51.361058Z",
     "start_time": "2021-02-23T00:44:51.355026Z"
    }
   },
   "outputs": [
    {
     "data": {
      "text/plain": [
       "'{\"Verduleria\":\\n [\\n  {\"Fruta\":\\n   [\\n    {\"Nombre\":\"Manzana\",\"Cantidad\":10},\\n    {\"Nombre\":\"Pera\",\"Cantidad\":20},\\n    {\"Nombre\":\"Naranja\",\"Cantidad\":30}\\n   ]\\n  },\\n  {\"Verdura\":\\n   [\\n    {\"Nombre\":\"Lechuga\",\"Cantidad\":80},\\n    {\"Nombre\":\"Tomate\",\"Cantidad\":15},\\n    {\"Nombre\":\"Pepino\",\"Cantidad\":50}\\n   ]\\n  }\\n ]\\n}\\n'"
      ]
     },
     "execution_count": 134,
     "metadata": {},
     "output_type": "execute_result"
    }
   ],
   "source": [
    "# Contenido Raw de las frutas\n",
    "frutas"
   ]
  },
  {
   "cell_type": "code",
   "execution_count": 135,
   "metadata": {
    "ExecuteTime": {
     "end_time": "2021-02-23T00:44:51.500557Z",
     "start_time": "2021-02-23T00:44:51.496532Z"
    }
   },
   "outputs": [],
   "source": [
    "# Lectura y conversion\n",
    "frutas = json.loads(frutas)"
   ]
  },
  {
   "cell_type": "code",
   "execution_count": 136,
   "metadata": {
    "ExecuteTime": {
     "end_time": "2021-02-23T00:44:51.647529Z",
     "start_time": "2021-02-23T00:44:51.642530Z"
    }
   },
   "outputs": [
    {
     "name": "stdout",
     "output_type": "stream",
     "text": [
      "<class 'dict'>\n"
     ]
    }
   ],
   "source": [
    "print(type(frutas))"
   ]
  },
  {
   "cell_type": "code",
   "execution_count": 137,
   "metadata": {
    "ExecuteTime": {
     "end_time": "2021-02-23T00:44:53.217725Z",
     "start_time": "2021-02-23T00:44:53.212743Z"
    }
   },
   "outputs": [
    {
     "name": "stdout",
     "output_type": "stream",
     "text": [
      "{'Verduleria': [{'Fruta': [{'Nombre': 'Manzana', 'Cantidad': 10}, {'Nombre': 'Pera', 'Cantidad': 20}, {'Nombre': 'Naranja', 'Cantidad': 30}]}, {'Verdura': [{'Nombre': 'Lechuga', 'Cantidad': 80}, {'Nombre': 'Tomate', 'Cantidad': 15}, {'Nombre': 'Pepino', 'Cantidad': 50}]}]}\n"
     ]
    }
   ],
   "source": [
    "print(frutas)"
   ]
  },
  {
   "cell_type": "code",
   "execution_count": 138,
   "metadata": {
    "ExecuteTime": {
     "end_time": "2021-02-23T00:44:58.376171Z",
     "start_time": "2021-02-23T00:44:58.372202Z"
    }
   },
   "outputs": [
    {
     "name": "stdout",
     "output_type": "stream",
     "text": [
      "dict_keys(['Verduleria'])\n"
     ]
    }
   ],
   "source": [
    "print(frutas.keys())"
   ]
  },
  {
   "cell_type": "code",
   "execution_count": 139,
   "metadata": {
    "ExecuteTime": {
     "end_time": "2021-02-23T00:45:25.115902Z",
     "start_time": "2021-02-23T00:45:25.109905Z"
    }
   },
   "outputs": [
    {
     "data": {
      "text/plain": [
       "2"
      ]
     },
     "execution_count": 139,
     "metadata": {},
     "output_type": "execute_result"
    }
   ],
   "source": [
    "# Almacenando raiz para reutilizar datos y ahorrar memoria\n",
    "verduleria = frutas.get('Verduleria')\n",
    "len(verduleria)"
   ]
  },
  {
   "cell_type": "code",
   "execution_count": 143,
   "metadata": {
    "ExecuteTime": {
     "end_time": "2021-02-23T00:45:46.281360Z",
     "start_time": "2021-02-23T00:45:46.276377Z"
    }
   },
   "outputs": [
    {
     "data": {
      "text/plain": [
       "[{'Fruta': [{'Nombre': 'Manzana', 'Cantidad': 10},\n",
       "   {'Nombre': 'Pera', 'Cantidad': 20},\n",
       "   {'Nombre': 'Naranja', 'Cantidad': 30}]},\n",
       " {'Verdura': [{'Nombre': 'Lechuga', 'Cantidad': 80},\n",
       "   {'Nombre': 'Tomate', 'Cantidad': 15},\n",
       "   {'Nombre': 'Pepino', 'Cantidad': 50}]}]"
      ]
     },
     "execution_count": 143,
     "metadata": {},
     "output_type": "execute_result"
    }
   ],
   "source": [
    "# Contenido del array\n",
    "verduleria"
   ]
  },
  {
   "cell_type": "code",
   "execution_count": 162,
   "metadata": {
    "ExecuteTime": {
     "end_time": "2021-02-23T00:51:32.167753Z",
     "start_time": "2021-02-23T00:51:32.163779Z"
    }
   },
   "outputs": [
    {
     "data": {
      "text/plain": [
       "{'Fruta': [{'Nombre': 'Manzana', 'Cantidad': 10},\n",
       "  {'Nombre': 'Pera', 'Cantidad': 20},\n",
       "  {'Nombre': 'Naranja', 'Cantidad': 30}]}"
      ]
     },
     "execution_count": 162,
     "metadata": {},
     "output_type": "execute_result"
    }
   ],
   "source": [
    "# Exploracion\n",
    "verduleria[0]"
   ]
  },
  {
   "cell_type": "code",
   "execution_count": 148,
   "metadata": {
    "ExecuteTime": {
     "end_time": "2021-02-23T00:46:23.489919Z",
     "start_time": "2021-02-23T00:46:23.483926Z"
    }
   },
   "outputs": [
    {
     "data": {
      "text/plain": [
       "[{'Nombre': 'Manzana', 'Cantidad': 10},\n",
       " {'Nombre': 'Pera', 'Cantidad': 20},\n",
       " {'Nombre': 'Naranja', 'Cantidad': 30}]"
      ]
     },
     "execution_count": 148,
     "metadata": {},
     "output_type": "execute_result"
    }
   ],
   "source": [
    "# Posicion 0\n",
    "verduleria[0].get('Fruta')"
   ]
  },
  {
   "cell_type": "code",
   "execution_count": 149,
   "metadata": {
    "ExecuteTime": {
     "end_time": "2021-02-23T00:46:34.790688Z",
     "start_time": "2021-02-23T00:46:34.775070Z"
    }
   },
   "outputs": [
    {
     "data": {
      "text/plain": [
       "[{'Nombre': 'Lechuga', 'Cantidad': 80},\n",
       " {'Nombre': 'Tomate', 'Cantidad': 15},\n",
       " {'Nombre': 'Pepino', 'Cantidad': 50}]"
      ]
     },
     "execution_count": 149,
     "metadata": {},
     "output_type": "execute_result"
    }
   ],
   "source": [
    " #Posicion 1\n",
    "verduleria[1].get('Verdura')"
   ]
  },
  {
   "cell_type": "code",
   "execution_count": 150,
   "metadata": {
    "ExecuteTime": {
     "end_time": "2021-02-23T00:46:52.346667Z",
     "start_time": "2021-02-23T00:46:52.339645Z"
    }
   },
   "outputs": [
    {
     "data": {
      "text/plain": [
       "'Lechuga'"
      ]
     },
     "execution_count": 150,
     "metadata": {},
     "output_type": "execute_result"
    }
   ],
   "source": [
    "# Primera verdura de la lista\n",
    "verduleria[1].get('Verdura')[0].get('Nombre')"
   ]
  },
  {
   "cell_type": "code",
   "execution_count": 156,
   "metadata": {
    "ExecuteTime": {
     "end_time": "2021-02-23T00:48:06.384090Z",
     "start_time": "2021-02-23T00:48:06.378126Z"
    }
   },
   "outputs": [
    {
     "data": {
      "text/plain": [
       "'No existe'"
      ]
     },
     "execution_count": 156,
     "metadata": {},
     "output_type": "execute_result"
    }
   ],
   "source": [
    "# Existe el color de las frutas?\n",
    "verduleria[0].get('Fruta')[0].get('Color', 'No existe')"
   ]
  },
  {
   "cell_type": "code",
   "execution_count": 160,
   "metadata": {
    "ExecuteTime": {
     "end_time": "2021-02-23T00:51:08.920278Z",
     "start_time": "2021-02-23T00:51:08.914281Z"
    }
   },
   "outputs": [
    {
     "data": {
      "text/plain": [
       "[{'Nombre': 'Lechuga', 'Cantidad': 80}, {'Nombre': 'Pepino', 'Cantidad': 50}]"
      ]
     },
     "execution_count": 160,
     "metadata": {},
     "output_type": "execute_result"
    }
   ],
   "source": [
    "# Verduras con mas de 30 unidades en stock\n",
    "\n",
    "verduras_stock = [v for v in verduleria[1].get('Verdura') if v.get('Cantidad') >= 30]\n",
    "verduras_stock"
   ]
  },
  {
   "cell_type": "code",
   "execution_count": 161,
   "metadata": {
    "ExecuteTime": {
     "end_time": "2021-02-23T00:51:15.218352Z",
     "start_time": "2021-02-23T00:51:15.211358Z"
    }
   },
   "outputs": [
    {
     "data": {
      "text/plain": [
       "[{'Nombre': 'Naranja', 'Cantidad': 30}]"
      ]
     },
     "execution_count": 161,
     "metadata": {},
     "output_type": "execute_result"
    }
   ],
   "source": [
    "# Frutas con mas de 25 unidades en stock\n",
    "\n",
    "frutas_stock = [f for f in verduleria[0].get('Fruta') if f.get('Cantidad') >= 25]\n",
    "frutas_stock"
   ]
  }
 ],
 "metadata": {
  "kernelspec": {
   "display_name": "Python 3",
   "language": "python",
   "name": "python3"
  },
  "language_info": {
   "codemirror_mode": {
    "name": "ipython",
    "version": 3
   },
   "file_extension": ".py",
   "mimetype": "text/x-python",
   "name": "python",
   "nbconvert_exporter": "python",
   "pygments_lexer": "ipython3",
   "version": "3.7.6"
  },
  "toc": {
   "base_numbering": 1,
   "nav_menu": {},
   "number_sections": true,
   "sideBar": true,
   "skip_h1_title": false,
   "title_cell": "Table of Contents",
   "title_sidebar": "Contents",
   "toc_cell": false,
   "toc_position": {},
   "toc_section_display": true,
   "toc_window_display": false
  }
 },
 "nbformat": 4,
 "nbformat_minor": 4
}
