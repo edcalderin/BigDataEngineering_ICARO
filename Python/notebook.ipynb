{
 "cells": [
  {
   "cell_type": "markdown",
   "metadata": {},
   "source": [
    "# Practica Python"
   ]
  },
  {
   "cell_type": "markdown",
   "metadata": {},
   "source": [
    "## Operaciones basicas"
   ]
  },
  {
   "cell_type": "code",
   "execution_count": 1,
   "metadata": {
    "ExecuteTime": {
     "end_time": "2021-02-22T23:28:53.665611Z",
     "start_time": "2021-02-22T23:28:53.649618Z"
    }
   },
   "outputs": [
    {
     "name": "stdout",
     "output_type": "stream",
     "text": [
      "Suma 2\n",
      "Resta 0\n",
      "Multiplicacion 4\n",
      "Division con coma flotante 2.0\n",
      "Division con coma flotante 10.0\n",
      "Divison sin coma flotante 3\n"
     ]
    }
   ],
   "source": [
    "print('Suma', 1+1)\n",
    "print('Resta', 1-1)\n",
    "print('Multiplicacion', 2*2)\n",
    "print('Division con coma flotante', 4/2)\n",
    "print('Division con coma flotante', 20/2)\n",
    "print('Divison sin coma flotante', 15%4)"
   ]
  },
  {
   "cell_type": "markdown",
   "metadata": {},
   "source": [
    "## Listas"
   ]
  },
  {
   "cell_type": "code",
   "execution_count": 2,
   "metadata": {
    "ExecuteTime": {
     "end_time": "2021-02-22T23:28:53.680603Z",
     "start_time": "2021-02-22T23:28:53.670622Z"
    }
   },
   "outputs": [
    {
     "name": "stdout",
     "output_type": "stream",
     "text": [
      "<class 'list'>\n",
      "1\n",
      "2\n",
      "3\n"
     ]
    }
   ],
   "source": [
    "lista = [1, 2, 3]\n",
    "print(type(lista))\n",
    "for n in lista:\n",
    "    print(n)"
   ]
  },
  {
   "cell_type": "code",
   "execution_count": 3,
   "metadata": {
    "ExecuteTime": {
     "end_time": "2021-02-22T23:28:53.697604Z",
     "start_time": "2021-02-22T23:28:53.684606Z"
    }
   },
   "outputs": [
    {
     "name": "stdout",
     "output_type": "stream",
     "text": [
      "1\n",
      "2\n",
      "3\n",
      "4\n",
      "5\n",
      "6\n",
      "7\n",
      "8\n",
      "9\n",
      "10\n"
     ]
    }
   ],
   "source": [
    "a=0\n",
    "while a < 10:\n",
    "    a+=1\n",
    "    print(a)"
   ]
  },
  {
   "cell_type": "code",
   "execution_count": 6,
   "metadata": {
    "ExecuteTime": {
     "end_time": "2021-02-22T23:29:05.035804Z",
     "start_time": "2021-02-22T23:29:04.212845Z"
    }
   },
   "outputs": [
    {
     "name": "stdout",
     "output_type": "stream",
     "text": [
      "Introduzca el dato 1: 1\n"
     ]
    }
   ],
   "source": [
    "data=input('Introduzca el dato 1: ')"
   ]
  },
  {
   "cell_type": "code",
   "execution_count": 7,
   "metadata": {
    "ExecuteTime": {
     "end_time": "2021-02-22T23:29:06.221368Z",
     "start_time": "2021-02-22T23:29:06.216357Z"
    }
   },
   "outputs": [
    {
     "data": {
      "text/plain": [
       "'1'"
      ]
     },
     "execution_count": 7,
     "metadata": {},
     "output_type": "execute_result"
    }
   ],
   "source": [
    "data"
   ]
  },
  {
   "cell_type": "markdown",
   "metadata": {},
   "source": [
    "## Funciones"
   ]
  },
  {
   "cell_type": "code",
   "execution_count": 8,
   "metadata": {
    "ExecuteTime": {
     "end_time": "2021-02-22T23:29:23.082157Z",
     "start_time": "2021-02-22T23:29:23.077128Z"
    }
   },
   "outputs": [],
   "source": [
    "def calcular_suma():\n",
    "    a=input('Dato 1: ')\n",
    "    b=input('Dato 2: ')\n",
    "    return int(a)+int(b)"
   ]
  },
  {
   "cell_type": "code",
   "execution_count": 10,
   "metadata": {
    "ExecuteTime": {
     "end_time": "2021-02-22T23:29:44.584992Z",
     "start_time": "2021-02-22T23:29:43.022900Z"
    }
   },
   "outputs": [
    {
     "name": "stdout",
     "output_type": "stream",
     "text": [
      "Dato 1: 1\n",
      "Dato 2: 2\n",
      "El resultado es 3\n"
     ]
    }
   ],
   "source": [
    "suma = calcular_suma()\n",
    "print('El resultado es', suma)"
   ]
  },
  {
   "cell_type": "code",
   "execution_count": 12,
   "metadata": {
    "ExecuteTime": {
     "end_time": "2021-02-22T23:29:53.749671Z",
     "start_time": "2021-02-22T23:29:53.745672Z"
    }
   },
   "outputs": [
    {
     "name": "stdout",
     "output_type": "stream",
     "text": [
      "El resultado es impar\n"
     ]
    }
   ],
   "source": [
    "if suma % 2 == 0:\n",
    "    print('El resultado es par')\n",
    "else:\n",
    "    print('El resultado es impar')"
   ]
  },
  {
   "cell_type": "markdown",
   "metadata": {},
   "source": [
    "### Invocando funciones"
   ]
  },
  {
   "cell_type": "code",
   "execution_count": 8,
   "metadata": {
    "ExecuteTime": {
     "end_time": "2021-02-22T23:12:49.906591Z",
     "start_time": "2021-02-22T23:12:49.901606Z"
    }
   },
   "outputs": [],
   "source": [
    "import llamado_de_funciones as Functions"
   ]
  },
  {
   "cell_type": "code",
   "execution_count": 9,
   "metadata": {
    "ExecuteTime": {
     "end_time": "2021-02-22T23:12:49.924590Z",
     "start_time": "2021-02-22T23:12:49.908597Z"
    }
   },
   "outputs": [
    {
     "name": "stdout",
     "output_type": "stream",
     "text": [
      "Llamaste la funcion 1\n"
     ]
    }
   ],
   "source": [
    "Functions.funcion1()"
   ]
  },
  {
   "cell_type": "code",
   "execution_count": 10,
   "metadata": {
    "ExecuteTime": {
     "end_time": "2021-02-22T23:12:52.342837Z",
     "start_time": "2021-02-22T23:12:49.931596Z"
    }
   },
   "outputs": [
    {
     "name": "stdout",
     "output_type": "stream",
     "text": [
      "Ingrese dato 1: 1\n",
      "Ingrese dato 2: 2\n",
      "La suma es: 3\n"
     ]
    }
   ],
   "source": [
    "data1 = input('Ingrese dato 1: ')\n",
    "data2 = input('Ingrese dato 2: ')\n",
    "suma = Functions.funcion2(data1, data2)\n",
    "print(f'La suma es:', suma)"
   ]
  },
  {
   "cell_type": "markdown",
   "metadata": {},
   "source": [
    "## Archivos"
   ]
  },
  {
   "cell_type": "code",
   "execution_count": 15,
   "metadata": {
    "ExecuteTime": {
     "end_time": "2021-02-22T23:20:57.016844Z",
     "start_time": "2021-02-22T23:20:57.009819Z"
    }
   },
   "outputs": [
    {
     "data": {
      "text/plain": [
       "'Archivo de texto, lectura desde Python!'"
      ]
     },
     "execution_count": 15,
     "metadata": {},
     "output_type": "execute_result"
    }
   ],
   "source": [
    "file = open('Archivo.txt', 'rt')\n",
    "texto = file.read()\n",
    "texto"
   ]
  },
  {
   "cell_type": "code",
   "execution_count": 16,
   "metadata": {
    "ExecuteTime": {
     "end_time": "2021-02-22T23:22:24.372617Z",
     "start_time": "2021-02-22T23:22:24.343578Z"
    }
   },
   "outputs": [],
   "source": [
    "#Created with UNIX command\n",
    "!echo 'Hola mundo' > hello_world.txt"
   ]
  },
  {
   "cell_type": "code",
   "execution_count": 21,
   "metadata": {
    "ExecuteTime": {
     "end_time": "2021-02-22T23:23:10.105560Z",
     "start_time": "2021-02-22T23:23:10.097559Z"
    }
   },
   "outputs": [
    {
     "data": {
      "text/plain": [
       "\"'Hola mundo' \\n\""
      ]
     },
     "execution_count": 21,
     "metadata": {},
     "output_type": "execute_result"
    }
   ],
   "source": [
    "file = open('hello_world.txt')\n",
    "file.read()"
   ]
  },
  {
   "cell_type": "markdown",
   "metadata": {},
   "source": [
    "## Request"
   ]
  },
  {
   "cell_type": "code",
   "execution_count": 15,
   "metadata": {
    "ExecuteTime": {
     "end_time": "2021-02-22T23:39:04.409802Z",
     "start_time": "2021-02-22T23:39:02.565749Z"
    }
   },
   "outputs": [
    {
     "name": "stdout",
     "output_type": "stream",
     "text": [
      "Requirement already satisfied: requests in c:\\users\\erick\\anaconda3\\lib\\site-packages (2.24.0)\n",
      "Requirement already satisfied: certifi>=2017.4.17 in c:\\users\\erick\\anaconda3\\lib\\site-packages (from requests) (2020.12.5)\n",
      "Requirement already satisfied: chardet<4,>=3.0.2 in c:\\users\\erick\\anaconda3\\lib\\site-packages (from requests) (3.0.4)\n",
      "Requirement already satisfied: urllib3!=1.25.0,!=1.25.1,<1.26,>=1.21.1 in c:\\users\\erick\\anaconda3\\lib\\site-packages (from requests) (1.25.11)\n",
      "Requirement already satisfied: idna<3,>=2.5 in c:\\users\\erick\\anaconda3\\lib\\site-packages (from requests) (2.10)\n"
     ]
    }
   ],
   "source": [
    "#Install\n",
    "!pip install requests"
   ]
  },
  {
   "cell_type": "code",
   "execution_count": 16,
   "metadata": {
    "ExecuteTime": {
     "end_time": "2021-02-22T23:39:46.123405Z",
     "start_time": "2021-02-22T23:39:46.037345Z"
    }
   },
   "outputs": [],
   "source": [
    "import requests"
   ]
  },
  {
   "cell_type": "code",
   "execution_count": 20,
   "metadata": {
    "ExecuteTime": {
     "end_time": "2021-02-22T23:40:59.177745Z",
     "start_time": "2021-02-22T23:40:58.354816Z"
    }
   },
   "outputs": [],
   "source": [
    "URL = 'https://google.com'\n",
    "data = requests.get(URL)"
   ]
  },
  {
   "cell_type": "code",
   "execution_count": 26,
   "metadata": {
    "ExecuteTime": {
     "end_time": "2021-02-22T23:41:40.929444Z",
     "start_time": "2021-02-22T23:41:40.922443Z"
    }
   },
   "outputs": [
    {
     "data": {
      "text/plain": [
       "'https://www.google.com/'"
      ]
     },
     "execution_count": 26,
     "metadata": {},
     "output_type": "execute_result"
    }
   ],
   "source": [
    "data.url"
   ]
  }
 ],
 "metadata": {
  "kernelspec": {
   "display_name": "Python 3",
   "language": "python",
   "name": "python3"
  },
  "language_info": {
   "codemirror_mode": {
    "name": "ipython",
    "version": 3
   },
   "file_extension": ".py",
   "mimetype": "text/x-python",
   "name": "python",
   "nbconvert_exporter": "python",
   "pygments_lexer": "ipython3",
   "version": "3.7.6"
  },
  "toc": {
   "base_numbering": 1,
   "nav_menu": {},
   "number_sections": true,
   "sideBar": true,
   "skip_h1_title": false,
   "title_cell": "Table of Contents",
   "title_sidebar": "Contents",
   "toc_cell": false,
   "toc_position": {},
   "toc_section_display": true,
   "toc_window_display": false
  }
 },
 "nbformat": 4,
 "nbformat_minor": 4
}
