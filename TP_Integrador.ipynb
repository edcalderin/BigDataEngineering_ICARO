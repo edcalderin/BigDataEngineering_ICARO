{
  "nbformat": 4,
  "nbformat_minor": 0,
  "metadata": {
    "colab": {
      "name": "TP_Integrador.ipynb",
      "provenance": [],
      "toc_visible": true,
      "authorship_tag": "ABX9TyPLUBNM35m24uahajSAh3uc",
      "include_colab_link": true
    },
    "kernelspec": {
      "name": "python3",
      "display_name": "Python 3"
    },
    "language_info": {
      "name": "python"
    }
  },
  "cells": [
    {
      "cell_type": "markdown",
      "metadata": {
        "id": "view-in-github",
        "colab_type": "text"
      },
      "source": [
        "<a href=\"https://colab.research.google.com/github/edcalderin/BigDataEngineering_ICARO/blob/master/TP_Integrador.ipynb\" target=\"_parent\"><img src=\"https://colab.research.google.com/assets/colab-badge.svg\" alt=\"Open In Colab\"/></a>"
      ]
    },
    {
      "cell_type": "markdown",
      "metadata": {
        "id": "TjvnA8QzhZPJ"
      },
      "source": [
        "# Trabajo integrador"
      ]
    },
    {
      "cell_type": "markdown",
      "metadata": {
        "id": "ecmoq4aFhpaN"
      },
      "source": [
        "## Parte 1"
      ]
    },
    {
      "cell_type": "markdown",
      "metadata": {
        "id": "4GKFXx3MhxjD"
      },
      "source": [
        "Creando conexión a Postgres"
      ]
    },
    {
      "cell_type": "code",
      "metadata": {
        "id": "Pl_gfMTgiKet"
      },
      "source": [
        ""
      ],
      "execution_count": null,
      "outputs": []
    },
    {
      "cell_type": "code",
      "metadata": {
        "id": "0QYa4A4qiCfJ"
      },
      "source": [
        "def engine():\n",
        "  "
      ],
      "execution_count": null,
      "outputs": []
    }
  ]
}