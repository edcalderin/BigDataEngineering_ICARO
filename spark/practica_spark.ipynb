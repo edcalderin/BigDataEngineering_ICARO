{
  "nbformat": 4,
  "nbformat_minor": 0,
  "metadata": {
    "colab": {
      "name": "practica_spark.ipynb",
      "provenance": [],
      "collapsed_sections": [],
      "toc_visible": true,
      "authorship_tag": "ABX9TyObqgAF1rP2Ef7rJs91xS7M",
      "include_colab_link": true
    },
    "kernelspec": {
      "name": "python3",
      "display_name": "Python 3"
    },
    "language_info": {
      "name": "python"
    }
  },
  "cells": [
    {
      "cell_type": "markdown",
      "metadata": {
        "id": "view-in-github",
        "colab_type": "text"
      },
      "source": [
        "<a href=\"https://colab.research.google.com/github/edcalderin/BigDataEngineering_ICARO/blob/master/spark/practica_spark.ipynb\" target=\"_parent\"><img src=\"https://colab.research.google.com/assets/colab-badge.svg\" alt=\"Open In Colab\"/></a>"
      ]
    },
    {
      "cell_type": "code",
      "metadata": {
        "id": "byUxKlCFDeng"
      },
      "source": [
        "%%bash\n",
        "apt-get install openjdk-8-jdk-headless -qq > /dev/null\n",
        "wget -q http://www-us.apache.org/dist/spark/spark-2.4.7/spark-2.4.7-bin-hadoop2.7.tgz\n",
        "tar xf spark-2.4.7-bin-hadoop2.7.tgz\n",
        "pip install -q findspark"
      ],
      "execution_count": 1,
      "outputs": []
    },
    {
      "cell_type": "code",
      "metadata": {
        "id": "pFvqaa_rDleY"
      },
      "source": [
        "import os\n",
        "os.environ['JAVA_HOME'] = '/usr/lib/jvm/java-8-openjdk-amd64'\n",
        "os.environ['SPARK_HOME'] = '/content/spark-2.4.7-bin-hadoop2.7'\n",
        "import findspark\n",
        "findspark.init()\n",
        "from pyspark.sql import SparkSession\n",
        "spark = SparkSession.builder.getOrCreate()"
      ],
      "execution_count": 2,
      "outputs": []
    },
    {
      "cell_type": "code",
      "metadata": {
        "colab": {
          "base_uri": "https://localhost:8080/"
        },
        "id": "dD6Rp-q5Dn0e",
        "outputId": "c8e9e887-1929-42cb-9c2a-05a98778aaad"
      },
      "source": [
        "from google.colab import drive\n",
        "drive.mount('/content/drive/')"
      ],
      "execution_count": 3,
      "outputs": [
        {
          "output_type": "stream",
          "text": [
            "Mounted at /content/drive/\n"
          ],
          "name": "stdout"
        }
      ]
    },
    {
      "cell_type": "code",
      "metadata": {
        "colab": {
          "base_uri": "https://localhost:8080/"
        },
        "id": "7N5VSQpiEQOe",
        "outputId": "505eebc4-a587-4abe-c5bb-d26d236587f9"
      },
      "source": [
        "quijote = spark.read.text('drive/MyDrive/Big_Data_Engineering/quijote.txt')\n",
        "stop_words = spark.read.text('drive/MyDrive/Big_Data_Engineering/spanish_stop_words.txt')\n",
        "\n",
        "#veamos que efectivamente es un DataFrame\n",
        "print(type(quijote))\n",
        "print(type(stop_words))"
      ],
      "execution_count": null,
      "outputs": [
        {
          "output_type": "stream",
          "text": [
            "<class 'pyspark.sql.dataframe.DataFrame'>\n",
            "<class 'pyspark.sql.dataframe.DataFrame'>\n"
          ],
          "name": "stdout"
        }
      ]
    },
    {
      "cell_type": "code",
      "metadata": {
        "colab": {
          "base_uri": "https://localhost:8080/"
        },
        "id": "Z6x_4NpSEiJm",
        "outputId": "ec9d4775-5cea-4e5c-c986-0d7e7889ba3d"
      },
      "source": [
        "print(quijote.printSchema())\n",
        "print(stop_words.printSchema())"
      ],
      "execution_count": null,
      "outputs": [
        {
          "output_type": "stream",
          "text": [
            "root\n",
            " |-- value: string (nullable = true)\n",
            "\n",
            "None\n",
            "root\n",
            " |-- value: string (nullable = true)\n",
            "\n",
            "None\n"
          ],
          "name": "stdout"
        }
      ]
    },
    {
      "cell_type": "markdown",
      "metadata": {
        "id": "coDOjr6gElN2"
      },
      "source": [
        "## Rdd"
      ]
    },
    {
      "cell_type": "code",
      "metadata": {
        "id": "EswMaVUeFTwW"
      },
      "source": [
        "quijote_rdd = quijote.rdd\n",
        "stop_words_rdd = stop_words.rdd"
      ],
      "execution_count": null,
      "outputs": []
    },
    {
      "cell_type": "code",
      "metadata": {
        "id": "y151zpOXFURV"
      },
      "source": [
        "import re"
      ],
      "execution_count": 12,
      "outputs": []
    },
    {
      "cell_type": "code",
      "metadata": {
        "id": "WaFVwkgOFfie"
      },
      "source": [
        "def normalize_text(line):\n",
        "  regex = r'[^a-zA-Z ]'\n",
        "  return re.sub(regex, '', line.lower().strip())"
      ],
      "execution_count": 13,
      "outputs": []
    },
    {
      "cell_type": "code",
      "metadata": {
        "id": "t10F4a7JF2pe"
      },
      "source": [
        "quijote_rdd = quijote_rdd.map(lambda line: normalize_text(line[0]))"
      ],
      "execution_count": null,
      "outputs": []
    },
    {
      "cell_type": "code",
      "metadata": {
        "colab": {
          "base_uri": "https://localhost:8080/"
        },
        "id": "LXTLU5MSGZDP",
        "outputId": "11e5b7e4-5e98-4abf-aaa8-93230fcf25f9"
      },
      "source": [
        "quijote_rdd.take(5)"
      ],
      "execution_count": null,
      "outputs": [
        {
          "output_type": "execute_result",
          "data": {
            "text/plain": [
              "['el ingenioso hidalgo don quijote de la mancha',\n",
              " '',\n",
              " '',\n",
              " '',\n",
              " 'por miguel de cervantes saavedra']"
            ]
          },
          "metadata": {
            "tags": []
          },
          "execution_count": 20
        }
      ]
    },
    {
      "cell_type": "code",
      "metadata": {
        "id": "acwcMPsWILB5"
      },
      "source": [
        "quijote_word_list = quijote_rdd.flatMap(lambda line: line.split(' '))"
      ],
      "execution_count": null,
      "outputs": []
    },
    {
      "cell_type": "code",
      "metadata": {
        "id": "IgRv0nmFIhHm"
      },
      "source": [
        "quijote_word_lens = quijote_word_list.map(lambda word: (word, len(word)))"
      ],
      "execution_count": null,
      "outputs": []
    },
    {
      "cell_type": "code",
      "metadata": {
        "id": "1vFVAGvZJa83"
      },
      "source": [
        "max_word_len = quijote_word_lens.reduce( lambda w1, w2: w1 if w1[1] > w2[1] else w2 )"
      ],
      "execution_count": null,
      "outputs": []
    },
    {
      "cell_type": "code",
      "metadata": {
        "colab": {
          "base_uri": "https://localhost:8080/"
        },
        "id": "5PRqSamlJcuX",
        "outputId": "e0f26901-9eae-4f00-a5c9-64d6daff1ac1"
      },
      "source": [
        "max_word_len"
      ],
      "execution_count": null,
      "outputs": [
        {
          "output_type": "execute_result",
          "data": {
            "text/plain": [
              "('bienintencionadamente', 21)"
            ]
          },
          "metadata": {
            "tags": []
          },
          "execution_count": 29
        }
      ]
    },
    {
      "cell_type": "markdown",
      "metadata": {
        "id": "oOw3cC-lJet3"
      },
      "source": [
        "## Ejercicios"
      ]
    },
    {
      "cell_type": "code",
      "metadata": {
        "id": "YJBEUyD9KGLW"
      },
      "source": [
        "quijote = spark.read.text('drive/MyDrive/Big_Data_Engineering/quijote.txt').rdd"
      ],
      "execution_count": 16,
      "outputs": []
    },
    {
      "cell_type": "code",
      "metadata": {
        "id": "E4-PgH8YKXXO"
      },
      "source": [
        "quijote = quijote.map(lambda line: normalize_text(line[0]))"
      ],
      "execution_count": 17,
      "outputs": []
    },
    {
      "cell_type": "code",
      "metadata": {
        "colab": {
          "base_uri": "https://localhost:8080/"
        },
        "id": "dIjRt2vhLRHO",
        "outputId": "89cb7ed1-a5d8-4b86-afc1-e292241cff08"
      },
      "source": [
        "%%time\n",
        "len(quijote.reduce(lambda l1, l2: l1 if len(l1)>=len(l2) else l2))"
      ],
      "execution_count": 31,
      "outputs": [
        {
          "output_type": "stream",
          "text": [
            "CPU times: user 8.07 ms, sys: 147 µs, total: 8.21 ms\n",
            "Wall time: 408 ms\n"
          ],
          "name": "stdout"
        },
        {
          "output_type": "execute_result",
          "data": {
            "text/plain": [
              "75"
            ]
          },
          "metadata": {
            "tags": []
          },
          "execution_count": 31
        }
      ]
    },
    {
      "cell_type": "code",
      "metadata": {
        "colab": {
          "base_uri": "https://localhost:8080/"
        },
        "id": "j9jJzr67RVu4",
        "outputId": "f91f2ef2-623f-41a2-a039-b89af3610ce3"
      },
      "source": [
        "map_quijote = quijote.map(lambda line: (line, len(line)))\n",
        "map_quijote.takeOrdered(3, key=lambda x: -x[1])"
      ],
      "execution_count": 40,
      "outputs": [
        {
          "output_type": "execute_result",
          "data": {
            "text/plain": [
              "[('donde le daba cuenta de su desgracia y de los amores del hijo del emperante',\n",
              "  75),\n",
              " ('tan poco curiosos los ingenios de la mancha que no tuviesen en sus archivos',\n",
              "  75),\n",
              " ('que en nuestra edad y en estos tan calamitosos tiempos se puso al trabajo y',\n",
              "  75)]"
            ]
          },
          "metadata": {
            "tags": []
          },
          "execution_count": 40
        }
      ]
    },
    {
      "cell_type": "code",
      "metadata": {
        "colab": {
          "base_uri": "https://localhost:8080/"
        },
        "id": "sZo7FLo_O_7J",
        "outputId": "caf5189f-0cbe-44c9-b742-1e739db5e161"
      },
      "source": [
        "key_value_quijote2 = quijote.map(lambda line: line.replace(' ','')).map(lambda line: (line, len(line)))\n",
        "key_value_quijote2.takeOrdered(3, key=lambda x: -x[1])"
      ],
      "execution_count": 43,
      "outputs": [
        {
          "output_type": "execute_result",
          "data": {
            "text/plain": [
              "[('intelegiblesdemonstrativosindubitablescondemostracionesmatemticas', 65),\n",
              " ('mientesenpartedondenoesposiblecorresponderosconformemerecevuestro', 65),\n",
              " ('aprovecharnosdelconocimientodiscretoparadistinguirestasdosmaneras', 65)]"
            ]
          },
          "metadata": {
            "tags": []
          },
          "execution_count": 43
        }
      ]
    },
    {
      "cell_type": "markdown",
      "metadata": {
        "id": "XTXzIDwtSBnQ"
      },
      "source": [
        "## Palabra con menor frecuencia"
      ]
    },
    {
      "cell_type": "code",
      "metadata": {
        "id": "3Bo3y5Qqd-fW"
      },
      "source": [
        "quijote = spark.read.text('drive/MyDrive/Big_Data_Engineering/quijote.txt').rdd"
      ],
      "execution_count": 49,
      "outputs": []
    },
    {
      "cell_type": "code",
      "metadata": {
        "colab": {
          "base_uri": "https://localhost:8080/"
        },
        "id": "JNwsXaSLZY4R",
        "outputId": "939ad719-0e63-4f3e-f140-447b60b662b9"
      },
      "source": [
        "lines_normalized = quijote.map(lambda line: normalize_text(line[0]))\n",
        "lines_normalized = lines_normalized.filter(lambda line: line!='')\\\n",
        "                                    .flatMap(lambda line: line.split(' '))\n",
        "lines_normalized = lines_normalized.map(lambda word: (word, 1))\n",
        "sorted(lines_normalized.countByKey().items(), key=lambda x: x[1])[:3]"
      ],
      "execution_count": 85,
      "outputs": [
        {
          "output_type": "execute_result",
          "data": {
            "text/plain": [
              "[('conste', 1), ('deciembre', 1), ('correcto', 1)]"
            ]
          },
          "metadata": {
            "tags": []
          },
          "execution_count": 85
        }
      ]
    }
  ]
}