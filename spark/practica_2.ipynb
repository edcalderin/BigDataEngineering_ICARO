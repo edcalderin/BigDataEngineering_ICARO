{
  "nbformat": 4,
  "nbformat_minor": 0,
  "metadata": {
    "colab": {
      "name": "practica_2.ipynb",
      "provenance": [],
      "toc_visible": true,
      "authorship_tag": "ABX9TyPsSU48Qpqn3nkVS3krbQ3U",
      "include_colab_link": true
    },
    "kernelspec": {
      "name": "python3",
      "display_name": "Python 3"
    },
    "language_info": {
      "name": "python"
    }
  },
  "cells": [
    {
      "cell_type": "markdown",
      "metadata": {
        "id": "view-in-github",
        "colab_type": "text"
      },
      "source": [
        "<a href=\"https://colab.research.google.com/github/edcalderin/BigDataEngineering_ICARO/blob/master/spark/practica_2.ipynb\" target=\"_parent\"><img src=\"https://colab.research.google.com/assets/colab-badge.svg\" alt=\"Open In Colab\"/></a>"
      ]
    },
    {
      "cell_type": "markdown",
      "metadata": {
        "id": "8QBbgkSJMpng"
      },
      "source": [
        "## Instalación"
      ]
    },
    {
      "cell_type": "code",
      "metadata": {
        "id": "ZqnEHD2pMMrz"
      },
      "source": [
        "%%bash\n",
        "apt-get install openjdk-8-jdk-headless -qq > /dev/null\n",
        "wget -q http://www-us.apache.org/dist/spark/spark-2.4.7/spark-2.4.7-bin-hadoop2.7.tgz\n",
        "tar xf spark-2.4.7-bin-hadoop2.7.tgz\n",
        "pip install -q findspark"
      ],
      "execution_count": null,
      "outputs": []
    },
    {
      "cell_type": "code",
      "metadata": {
        "id": "Y6A5vcB0MUf0"
      },
      "source": [
        "import os\n",
        "os.environ['JAVA_HOME'] = '/usr/lib/jvm/java-8-openjdk-amd64'\n",
        "os.environ['SPARK_HOME'] = '/content/spark-2.4.7-bin-hadoop2.7'\n",
        "import findspark\n",
        "findspark.init()\n",
        "from pyspark.sql import SparkSession\n",
        "spark = SparkSession.builder.getOrCreate()"
      ],
      "execution_count": null,
      "outputs": []
    },
    {
      "cell_type": "code",
      "metadata": {
        "colab": {
          "base_uri": "https://localhost:8080/"
        },
        "id": "jWHLgI5fMXV5",
        "outputId": "e0fe64f5-6c8a-4f20-c1fd-258e189b7f84"
      },
      "source": [
        "from google.colab import drive\n",
        "drive.mount('/content/drive/')"
      ],
      "execution_count": null,
      "outputs": [
        {
          "output_type": "stream",
          "text": [
            "Mounted at /content/drive/\n"
          ],
          "name": "stdout"
        }
      ]
    },
    {
      "cell_type": "markdown",
      "metadata": {
        "id": "1ixtRxHnMZJA"
      },
      "source": [
        "## Ejercicios"
      ]
    },
    {
      "cell_type": "markdown",
      "metadata": {
        "id": "uB6xRPhtMo2o"
      },
      "source": [
        "### FlatMap"
      ]
    },
    {
      "cell_type": "code",
      "metadata": {
        "id": "Wwe7Ud_5Pahg"
      },
      "source": [
        "from pyspark.sql import Row"
      ],
      "execution_count": null,
      "outputs": []
    },
    {
      "cell_type": "markdown",
      "metadata": {
        "id": "bWeJYYcrPbrv"
      },
      "source": [
        "Ejercicio 1"
      ]
    },
    {
      "cell_type": "code",
      "metadata": {
        "colab": {
          "base_uri": "https://localhost:8080/"
        },
        "id": "CXQHbSsgM2v_",
        "outputId": "6d3d0536-63b3-4716-ed26-35f3b9788b0d"
      },
      "source": [
        "rdd = spark.sparkContext.parallelize([('hola'), ('curso'), ('datos')])\n",
        "rdd.take(5)"
      ],
      "execution_count": null,
      "outputs": [
        {
          "output_type": "execute_result",
          "data": {
            "text/plain": [
              "['hola', 'curso', 'datos']"
            ]
          },
          "metadata": {
            "tags": []
          },
          "execution_count": 4
        }
      ]
    },
    {
      "cell_type": "code",
      "metadata": {
        "colab": {
          "base_uri": "https://localhost:8080/"
        },
        "id": "Q8CU_BazNVs7",
        "outputId": "663c962e-2cf0-44dc-f650-1fbeacef09ff"
      },
      "source": [
        "rdd.map(lambda x: (x, len(x))).take(3)"
      ],
      "execution_count": null,
      "outputs": [
        {
          "output_type": "execute_result",
          "data": {
            "text/plain": [
              "[('hola', 4), ('curso', 5), ('datos', 5)]"
            ]
          },
          "metadata": {
            "tags": []
          },
          "execution_count": 5
        }
      ]
    },
    {
      "cell_type": "code",
      "metadata": {
        "colab": {
          "base_uri": "https://localhost:8080/"
        },
        "id": "jru1PXcqNroB",
        "outputId": "07482e3e-827a-4056-b614-a903e51279c9"
      },
      "source": [
        "rdd.flatMap(lambda x: (x, len(x))).take(3)"
      ],
      "execution_count": null,
      "outputs": [
        {
          "output_type": "execute_result",
          "data": {
            "text/plain": [
              "['hola', 4, 'curso']"
            ]
          },
          "metadata": {
            "tags": []
          },
          "execution_count": 8
        }
      ]
    },
    {
      "cell_type": "markdown",
      "metadata": {
        "id": "zFl_7CRvPfV4"
      },
      "source": [
        "Ejercicio 2"
      ]
    },
    {
      "cell_type": "code",
      "metadata": {
        "colab": {
          "base_uri": "https://localhost:8080/"
        },
        "id": "xl-TRSxJPAoA",
        "outputId": "c66244e8-eb94-49ab-edf1-13550f2a212c"
      },
      "source": [
        "rdd = spark.sparkContext.parallelize([('hola'), ('curso'), ('datos')])\n",
        "rdd.take(5)"
      ],
      "execution_count": null,
      "outputs": [
        {
          "output_type": "execute_result",
          "data": {
            "text/plain": [
              "['hola', 'curso', 'datos']"
            ]
          },
          "metadata": {
            "tags": []
          },
          "execution_count": 9
        }
      ]
    },
    {
      "cell_type": "markdown",
      "metadata": {
        "id": "sGZkn0o2PONA"
      },
      "source": [
        "Ejercicio 3"
      ]
    },
    {
      "cell_type": "code",
      "metadata": {
        "colab": {
          "base_uri": "https://localhost:8080/"
        },
        "id": "QiJNfmRyPEQY",
        "outputId": "3b8125b0-3ee0-4e83-c79a-ba58a46aab08"
      },
      "source": [
        "rdd = spark.sparkContext.parallelize([('hola mundo'), ('esto es el curso'), ('de data engineering')])\n",
        "rdd.flatMap(lambda x:x.split(' ')).take(8)"
      ],
      "execution_count": null,
      "outputs": [
        {
          "output_type": "execute_result",
          "data": {
            "text/plain": [
              "['hola', 'mundo', 'esto', 'es', 'el', 'curso', 'de', 'data']"
            ]
          },
          "metadata": {
            "tags": []
          },
          "execution_count": 13
        }
      ]
    },
    {
      "cell_type": "code",
      "metadata": {
        "colab": {
          "base_uri": "https://localhost:8080/"
        },
        "id": "00p0Yhb8PnDx",
        "outputId": "eed6b240-5e74-4a96-8a3c-e40a3e29db04"
      },
      "source": [
        "rdd.map(lambda x: x.split(' ')).take(4)"
      ],
      "execution_count": null,
      "outputs": [
        {
          "output_type": "execute_result",
          "data": {
            "text/plain": [
              "[['hola', 'mundo'],\n",
              " ['esto', 'es', 'el', 'curso'],\n",
              " ['de', 'data', 'engineering']]"
            ]
          },
          "metadata": {
            "tags": []
          },
          "execution_count": 20
        }
      ]
    },
    {
      "cell_type": "markdown",
      "metadata": {
        "id": "Ts4var5pYLl4"
      },
      "source": [
        "## Dataframe"
      ]
    },
    {
      "cell_type": "code",
      "metadata": {
        "colab": {
          "base_uri": "https://localhost:8080/"
        },
        "id": "7M5YS440YOpp",
        "outputId": "fdf9ddc1-5f0f-4e09-d727-46e1061b6956"
      },
      "source": [
        "from pyspark.sql import Row\n",
        "rdd = spark.sparkContext.parallelize([('Michael', None, 'M'), ('Andy', 30, 'F'), ('Justin', 19, 'M')])\n",
        "row = Row('name', 'age', 'gender')\n",
        "personaRdd = rdd.map(lambda x: row(x[0], x[1], x[2]))\n",
        "personaRdd.take(3)"
      ],
      "execution_count": null,
      "outputs": [
        {
          "output_type": "execute_result",
          "data": {
            "text/plain": [
              "[Row(name='Michael', age=None, gender='M'),\n",
              " Row(name='Andy', age=30, gender='F'),\n",
              " Row(name='Justin', age=19, gender='M')]"
            ]
          },
          "metadata": {
            "tags": []
          },
          "execution_count": 26
        }
      ]
    },
    {
      "cell_type": "code",
      "metadata": {
        "colab": {
          "base_uri": "https://localhost:8080/"
        },
        "id": "dng8EkFBYnTI",
        "outputId": "66f7f9c0-c5f0-4afb-90fa-020bb5cb11c6"
      },
      "source": [
        "type(personaRdd)"
      ],
      "execution_count": null,
      "outputs": [
        {
          "output_type": "execute_result",
          "data": {
            "text/plain": [
              "pyspark.rdd.PipelinedRDD"
            ]
          },
          "metadata": {
            "tags": []
          },
          "execution_count": 27
        }
      ]
    },
    {
      "cell_type": "code",
      "metadata": {
        "colab": {
          "base_uri": "https://localhost:8080/"
        },
        "id": "xOS-wLdjaFig",
        "outputId": "f7ef62f5-e85b-48e0-ac78-8804323ba416"
      },
      "source": [
        "personasDF = personaRdd.toDF()\n",
        "personasDF.show(5)"
      ],
      "execution_count": null,
      "outputs": [
        {
          "output_type": "stream",
          "text": [
            "+-------+----+------+\n",
            "|   name| age|gender|\n",
            "+-------+----+------+\n",
            "|Michael|null|     M|\n",
            "|   Andy|  30|     F|\n",
            "| Justin|  19|     M|\n",
            "+-------+----+------+\n",
            "\n"
          ],
          "name": "stdout"
        }
      ]
    },
    {
      "cell_type": "markdown",
      "metadata": {
        "id": "nEkpCVvDaJtY"
      },
      "source": [
        "Forzando el tipo de dato"
      ]
    },
    {
      "cell_type": "code",
      "metadata": {
        "id": "8TA1vI66ckbg"
      },
      "source": [
        "from pyspark.sql.types import StringType, IntegerType, StructField, StructType\n",
        "\n",
        "scheme = StructType([\n",
        "                     StructField('name', StringType(), False),\n",
        "                     StructField('age', IntegerType()),\n",
        "                     StructField('gender', StringType(), False)\n",
        "            ])"
      ],
      "execution_count": null,
      "outputs": []
    },
    {
      "cell_type": "code",
      "metadata": {
        "id": "WC3uoc4udDdR"
      },
      "source": [
        "personasDF_2 = spark.createDataFrame(rdd, scheme)"
      ],
      "execution_count": null,
      "outputs": []
    },
    {
      "cell_type": "code",
      "metadata": {
        "colab": {
          "base_uri": "https://localhost:8080/"
        },
        "id": "YL2XNpkmdZ-P",
        "outputId": "b8d9ae1a-c954-42dc-c7c8-1c65d05f15eb"
      },
      "source": [
        "personasDF_2.show(3)"
      ],
      "execution_count": null,
      "outputs": [
        {
          "output_type": "stream",
          "text": [
            "+-------+----+------+\n",
            "|   name| age|gender|\n",
            "+-------+----+------+\n",
            "|Michael|null|     M|\n",
            "|   Andy|  30|     F|\n",
            "| Justin|  19|     M|\n",
            "+-------+----+------+\n",
            "\n"
          ],
          "name": "stdout"
        }
      ]
    },
    {
      "cell_type": "markdown",
      "metadata": {
        "id": "8Ry-h8jRfb_2"
      },
      "source": [
        "Boston Dataset https://www.kaggle.com/puxama/bostoncsv"
      ]
    },
    {
      "cell_type": "code",
      "metadata": {
        "id": "Uo3bnFMCdceG"
      },
      "source": [
        "boston_df = spark.read.csv('drive/MyDrive/Big_Data_Engineering/Boston.csv', header=True)"
      ],
      "execution_count": null,
      "outputs": []
    },
    {
      "cell_type": "code",
      "metadata": {
        "colab": {
          "base_uri": "https://localhost:8080/"
        },
        "id": "rmcjH4PWe7Dj",
        "outputId": "f1c59b5f-0c26-4fa9-f507-b42b7185e9cc"
      },
      "source": [
        "boston_df.show(4, False)"
      ],
      "execution_count": null,
      "outputs": [
        {
          "output_type": "stream",
          "text": [
            "+---+-------+---+-----+----+-----+-----+----+------+---+---+-------+------+-----+----+\n",
            "|_c0|crim   |zn |indus|chas|nox  |rm   |age |dis   |rad|tax|ptratio|black |lstat|medv|\n",
            "+---+-------+---+-----+----+-----+-----+----+------+---+---+-------+------+-----+----+\n",
            "|1  |0.00632|18 |2.31 |0   |0.538|6.575|65.2|4.09  |1  |296|15.3   |396.9 |4.98 |24  |\n",
            "|2  |0.02731|0  |7.07 |0   |0.469|6.421|78.9|4.9671|2  |242|17.8   |396.9 |9.14 |21.6|\n",
            "|3  |0.02729|0  |7.07 |0   |0.469|7.185|61.1|4.9671|2  |242|17.8   |392.83|4.03 |34.7|\n",
            "|4  |0.03237|0  |2.18 |0   |0.458|6.998|45.8|6.0622|3  |222|18.7   |394.63|2.94 |33.4|\n",
            "+---+-------+---+-----+----+-----+-----+----+------+---+---+-------+------+-----+----+\n",
            "only showing top 4 rows\n",
            "\n"
          ],
          "name": "stdout"
        }
      ]
    },
    {
      "cell_type": "code",
      "metadata": {
        "id": "Dxjh0RrOe-ln"
      },
      "source": [
        "boston_df = boston_df.drop('_c0')"
      ],
      "execution_count": null,
      "outputs": []
    },
    {
      "cell_type": "code",
      "metadata": {
        "colab": {
          "base_uri": "https://localhost:8080/"
        },
        "id": "AKsUba8Bf1cB",
        "outputId": "fc35178c-a9a0-40e0-9c54-1cd5026868c8"
      },
      "source": [
        "boston_df.columns"
      ],
      "execution_count": null,
      "outputs": [
        {
          "output_type": "execute_result",
          "data": {
            "text/plain": [
              "['crim',\n",
              " 'zn',\n",
              " 'indus',\n",
              " 'chas',\n",
              " 'nox',\n",
              " 'rm',\n",
              " 'age',\n",
              " 'dis',\n",
              " 'rad',\n",
              " 'tax',\n",
              " 'ptratio',\n",
              " 'black',\n",
              " 'lstat',\n",
              " 'medv']"
            ]
          },
          "metadata": {
            "tags": []
          },
          "execution_count": 47
        }
      ]
    },
    {
      "cell_type": "code",
      "metadata": {
        "colab": {
          "base_uri": "https://localhost:8080/"
        },
        "id": "BCxrFNKggytA",
        "outputId": "ac14ea97-2158-4dfd-c33f-1709d103d55b"
      },
      "source": [
        "boston_df.printSchema()"
      ],
      "execution_count": null,
      "outputs": [
        {
          "output_type": "stream",
          "text": [
            "root\n",
            " |-- crim: string (nullable = true)\n",
            " |-- zn: string (nullable = true)\n",
            " |-- indus: string (nullable = true)\n",
            " |-- chas: string (nullable = true)\n",
            " |-- nox: string (nullable = true)\n",
            " |-- rm: string (nullable = true)\n",
            " |-- age: string (nullable = true)\n",
            " |-- dis: string (nullable = true)\n",
            " |-- rad: string (nullable = true)\n",
            " |-- tax: string (nullable = true)\n",
            " |-- ptratio: string (nullable = true)\n",
            " |-- black: string (nullable = true)\n",
            " |-- lstat: string (nullable = true)\n",
            " |-- medv: string (nullable = true)\n",
            "\n"
          ],
          "name": "stdout"
        }
      ]
    },
    {
      "cell_type": "code",
      "metadata": {
        "colab": {
          "base_uri": "https://localhost:8080/"
        },
        "id": "y9VZsr6ff3Uh",
        "outputId": "2f9ed200-c50d-43be-ce11-551a026f45a7"
      },
      "source": [
        "print('Cantidad de filas', boston_df.count())\n",
        "print('Cantidad de columnas', len(boston_df.columns))"
      ],
      "execution_count": null,
      "outputs": [
        {
          "output_type": "stream",
          "text": [
            "Cantidad de filas 506\n",
            "Cantidad de columnas 14\n"
          ],
          "name": "stdout"
        }
      ]
    },
    {
      "cell_type": "code",
      "metadata": {
        "id": "03bMVjBfhIq_"
      },
      "source": [
        "from pyspark.sql.types import DoubleType\n",
        "from pyspark.sql.functions import col\n",
        "for column in boston_df.columns:\n",
        "  boston_df = boston_df.withColumn(column,col(column).cast(DoubleType()))"
      ],
      "execution_count": null,
      "outputs": []
    },
    {
      "cell_type": "code",
      "metadata": {
        "colab": {
          "base_uri": "https://localhost:8080/"
        },
        "id": "XLjv3FEDkYQ-",
        "outputId": "f959dcea-8d05-4637-a9be-090d6f1682fe"
      },
      "source": [
        "boston_df.select('crim', 'zn', 'age').where(col('age') > 50 ).show(5)"
      ],
      "execution_count": null,
      "outputs": [
        {
          "output_type": "stream",
          "text": [
            "+-------+----+----+\n",
            "|   crim|  zn| age|\n",
            "+-------+----+----+\n",
            "|0.00632|18.0|65.2|\n",
            "|0.02731| 0.0|78.9|\n",
            "|0.02729| 0.0|61.1|\n",
            "|0.06905| 0.0|54.2|\n",
            "|0.02985| 0.0|58.7|\n",
            "+-------+----+----+\n",
            "only showing top 5 rows\n",
            "\n"
          ],
          "name": "stdout"
        }
      ]
    },
    {
      "cell_type": "code",
      "metadata": {
        "colab": {
          "base_uri": "https://localhost:8080/"
        },
        "id": "0QPmSeRgkaIe",
        "outputId": "c9f9f85e-89b0-4f7f-cc59-22dccd08cc76"
      },
      "source": [
        "boston_df.registerTempTable(\"boston_crimes\")\n",
        "spark.sql(\"SELECT crim, zn, age FROM boston_crimes WHERE age > 50 LIMIT 5\").show()"
      ],
      "execution_count": null,
      "outputs": [
        {
          "output_type": "stream",
          "text": [
            "+-------+----+----+\n",
            "|   crim|  zn| age|\n",
            "+-------+----+----+\n",
            "|0.00632|18.0|65.2|\n",
            "|0.02731| 0.0|78.9|\n",
            "|0.02729| 0.0|61.1|\n",
            "|0.06905| 0.0|54.2|\n",
            "|0.02985| 0.0|58.7|\n",
            "+-------+----+----+\n",
            "\n"
          ],
          "name": "stdout"
        }
      ]
    },
    {
      "cell_type": "code",
      "metadata": {
        "id": "nFuFhcJKkdRX"
      },
      "source": [
        ""
      ],
      "execution_count": null,
      "outputs": []
    }
  ]
}